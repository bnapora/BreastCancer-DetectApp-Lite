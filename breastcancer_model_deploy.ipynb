{
 "cells": [
  {
   "cell_type": "code",
   "execution_count": 1,
   "metadata": {
    "ExecuteTime": {
     "end_time": "2020-09-04T16:31:07.668205Z",
     "start_time": "2020-09-04T16:31:07.059219Z"
    }
   },
   "outputs": [],
   "source": [
    "import torch\n",
    "from fastai2.basics import *\n",
    "from fastai2.callback.all import *\n",
    "from fastai2.vision.all import *\n",
    "from fastai2.vision.widgets import *"
   ]
  },
  {
   "cell_type": "code",
   "execution_count": 2,
   "metadata": {
    "ExecuteTime": {
     "end_time": "2020-09-04T16:31:08.398254Z",
     "start_time": "2020-09-04T16:31:08.396273Z"
    }
   },
   "outputs": [],
   "source": [
    "#source_directory = '/workspace/histopathologic-cancer-detection'\n",
    "path = Path()"
   ]
  },
  {
   "cell_type": "code",
   "execution_count": 3,
   "metadata": {
    "ExecuteTime": {
     "end_time": "2020-09-04T16:31:09.214002Z",
     "start_time": "2020-09-04T16:31:09.211495Z"
    }
   },
   "outputs": [],
   "source": [
    "# Include functions from model class\n",
    "def get_x(r): \n",
    "    pathstr = str(path)\n",
    "    idstr = str(r['id'])\n",
    "    imgpathstr = pathstr + '/train/' + idstr + '.tif'\n",
    "    return imgpathstr\n",
    "def get_y(r): return r['label']"
   ]
  },
  {
   "cell_type": "code",
   "execution_count": 4,
   "metadata": {
    "ExecuteTime": {
     "end_time": "2020-09-04T16:31:10.563685Z",
     "start_time": "2020-09-04T16:31:10.084305Z"
    }
   },
   "outputs": [],
   "source": [
    "learn_inf = load_learner(path/'export.pkl')"
   ]
  },
  {
   "cell_type": "markdown",
   "metadata": {},
   "source": [
    "Create Notebook App"
   ]
  },
  {
   "cell_type": "code",
   "execution_count": 5,
   "metadata": {
    "ExecuteTime": {
     "end_time": "2020-09-04T16:31:12.888519Z",
     "start_time": "2020-09-04T16:31:12.884409Z"
    }
   },
   "outputs": [],
   "source": [
    "def on_click_classify(change):\n",
    "    img = PILImage.create(btn_upload.data[-1])\n",
    "    out_pl.clear_output()\n",
    "    with out_pl: display(img.to_thumb(128,128))\n",
    "    pred,pred_idx,probs = learn_inf.predict(img)\n",
    "    lbl_pred.value = f'Prediction: {change_pred_totext(pred)}; Probability: {probs[pred_idx]:.04f}'\n",
    "\n",
    "def change_pred_totext(preds):\n",
    "    if (preds==1):\n",
    "        predvalue = 'Positive'\n",
    "    else:\n",
    "        predvalue = 'Negative'\n",
    "    return predvalue"
   ]
  },
  {
   "cell_type": "code",
   "execution_count": 8,
   "metadata": {
    "ExecuteTime": {
     "end_time": "2020-09-04T16:31:33.305498Z",
     "start_time": "2020-09-04T16:31:32.576475Z"
    }
   },
   "outputs": [],
   "source": [
    "#Display output of upload\n",
    "imgsrc = 'https://ride4lessltd.com//assets/images/no_image.png'\n",
    "response = requests.get(imgsrc)\n",
    "img = PILImage.create(response.content)\n",
    "\n",
    "out_pl = widgets.Output()\n",
    "out_pl.clear_output()\n",
    "with out_pl: display(img.to_thumb(128,128))\n",
    "    \n",
    "lbl_pred = widgets.Label()\n",
    "lbl_pred.value = f'Prediction: None; Probability: None'\n",
    "\n",
    "btn_run = widgets.Button(description='Classify')\n",
    "btn_run.on_click(on_click_classify)\n",
    "\n",
    "#Putting back btn_upload to a widget for next cell\n",
    "btn_upload = widgets.FileUpload()"
   ]
  },
  {
   "cell_type": "code",
   "execution_count": 7,
   "metadata": {
    "ExecuteTime": {
     "end_time": "2020-09-04T16:31:14.881052Z",
     "start_time": "2020-09-04T16:31:14.845140Z"
    }
   },
   "outputs": [
    {
     "data": {
      "application/vnd.jupyter.widget-view+json": {
       "model_id": "423b5c43ca874493a92ea7ef00db992d",
       "version_major": 2,
       "version_minor": 0
      },
      "text/plain": [
       "VBox(children=(Label(value='Select breast tissue image:'), FileUpload(value={}, description='Upload'), Button(…"
      ]
     },
     "metadata": {},
     "output_type": "display_data"
    }
   ],
   "source": [
    "VBox([widgets.Label('Select breast tissue image:'), \n",
    "      btn_upload, btn_run, out_pl, lbl_pred])"
   ]
  },
  {
   "cell_type": "code",
   "execution_count": null,
   "metadata": {},
   "outputs": [],
   "source": []
  },
  {
   "cell_type": "code",
   "execution_count": null,
   "metadata": {},
   "outputs": [],
   "source": []
  }
 ],
 "metadata": {
  "kernelspec": {
   "display_name": "fastai2",
   "language": "python",
   "name": "fastai2"
  },
  "language_info": {
   "codemirror_mode": {
    "name": "ipython",
    "version": 3
   },
   "file_extension": ".py",
   "mimetype": "text/x-python",
   "name": "python",
   "nbconvert_exporter": "python",
   "pygments_lexer": "ipython3",
   "version": "3.8.5"
  },
  "toc": {
   "base_numbering": 1,
   "nav_menu": {},
   "number_sections": false,
   "sideBar": true,
   "skip_h1_title": false,
   "title_cell": "Table of Contents",
   "title_sidebar": "Contents",
   "toc_cell": false,
   "toc_position": {},
   "toc_section_display": true,
   "toc_window_display": false
  }
 },
 "nbformat": 4,
 "nbformat_minor": 4
}
